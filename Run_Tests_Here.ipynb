{
 "cells": [
  {
   "cell_type": "markdown",
   "id": "6363b32a",
   "metadata": {},
   "source": [
    "\n",
    "Since the boba ordering program is meant to keep running, run the test functions here without having to interrupt the system's functions.\n"
   ]
  },
  {
   "cell_type": "code",
   "execution_count": 1,
   "id": "62d45fb5",
   "metadata": {},
   "outputs": [
    {
     "name": "stdout",
     "output_type": "stream",
     "text": [
      "\u001b[1m============================= test session starts ==============================\u001b[0m\n",
      "platform linux -- Python 3.9.5, pytest-7.4.2, pluggy-1.3.0\n",
      "rootdir: /home/dkulkarni/MyProjectFolder\n",
      "plugins: anyio-3.2.1\n",
      "collected 2 items                                                              \u001b[0m\u001b[1m\n",
      "\n",
      "module/test_functions.py \u001b[32m.\u001b[0m\u001b[32m.\u001b[0m\u001b[32m                                              [100%]\u001b[0m\n",
      "\n",
      "\u001b[32m============================== \u001b[32m\u001b[1m2 passed\u001b[0m\u001b[32m in 0.63s\u001b[0m\u001b[32m ===============================\u001b[0m\n"
     ]
    }
   ],
   "source": [
    "!pytest "
   ]
  },
  {
   "cell_type": "code",
   "execution_count": null,
   "id": "d4fd6b03",
   "metadata": {},
   "outputs": [],
   "source": []
  }
 ],
 "metadata": {
  "kernelspec": {
   "display_name": "Python 3 (ipykernel)",
   "language": "python",
   "name": "python3"
  },
  "language_info": {
   "codemirror_mode": {
    "name": "ipython",
    "version": 3
   },
   "file_extension": ".py",
   "mimetype": "text/x-python",
   "name": "python",
   "nbconvert_exporter": "python",
   "pygments_lexer": "ipython3",
   "version": "3.9.5"
  }
 },
 "nbformat": 4,
 "nbformat_minor": 5
}
