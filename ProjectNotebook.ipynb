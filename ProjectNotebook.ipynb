{
 "cells": [
  {
   "cell_type": "markdown",
   "id": "5ca7b852",
   "metadata": {},
   "source": [
    "# Project Description"
   ]
  },
  {
   "cell_type": "markdown",
   "id": "a0f04bf6",
   "metadata": {},
   "source": [
    "This program is made to assist staff members at a boba shop. This program will help the boba barista to take an \n",
    "order, and instruct them on how to make the drink. This also involves checking th stock of ingredients and restocking them as required. The program will then proceed to generate a bill. The program also helps the staff to calculate the change amount to be returned to the customer after they've paid. \n",
    "The boba barista can then wish to view th current stock of ingredients, or proceed to take the next order. \n",
    "\n",
    "This program is meant to keep running on the screen, and is always onto the next order. A more advanced version of this program would log the activity of the day and continue to reflect the changes in inventory when turned on again. \n",
    "\n",
    "Writing this program was so fun! Especially because I love boba so much :)"
   ]
  },
  {
   "cell_type": "markdown",
   "id": "649bcc43",
   "metadata": {},
   "source": [
    "~ ~ ~ ~"
   ]
  },
  {
   "cell_type": "raw",
   "id": "cc51ae68",
   "metadata": {},
   "source": [
    "\n",
    "Run the following code to begin the ordering system!\n"
   ]
  },
  {
   "cell_type": "code",
   "execution_count": null,
   "id": "7ce5b7e6",
   "metadata": {},
   "outputs": [],
   "source": [
    "from module import classes\n",
    "classes.working()"
   ]
  },
  {
   "cell_type": "markdown",
   "id": "21414155",
   "metadata": {
    "scrolled": true
   },
   "source": [
    "~ ~ ~ ~"
   ]
  },
  {
   "cell_type": "markdown",
   "id": "c7cc5576",
   "metadata": {},
   "source": [
    "## Extra Credit "
   ]
  },
  {
   "cell_type": "markdown",
   "id": "596eead0",
   "metadata": {},
   "source": [
    "In this code, I have included many of the concepts that we've learned in class and developed a detailed code that takes care of most of the possible loopholes and errors that could occur due to simple reasons such as user error while giving input to the system. I also made a lot of the classe and methods interconnected. Developing this code has taken me a several hours, and it was very rewarding when everything worked out. "
   ]
  },
  {
   "cell_type": "markdown",
   "id": "51264776",
   "metadata": {},
   "source": [
    "~ ~ ~ ~"
   ]
  }
 ],
 "metadata": {
  "kernelspec": {
   "display_name": "Python 3 (ipykernel)",
   "language": "python",
   "name": "python3"
  },
  "language_info": {
   "codemirror_mode": {
    "name": "ipython",
    "version": 3
   },
   "file_extension": ".py",
   "mimetype": "text/x-python",
   "name": "python",
   "nbconvert_exporter": "python",
   "pygments_lexer": "ipython3",
   "version": "3.9.5"
  }
 },
 "nbformat": 4,
 "nbformat_minor": 5
}
